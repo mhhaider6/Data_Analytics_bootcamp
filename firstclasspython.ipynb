{
  "nbformat": 4,
  "nbformat_minor": 0,
  "metadata": {
    "colab": {
      "provenance": []
    },
    "kernelspec": {
      "name": "python3",
      "display_name": "Python 3"
    },
    "language_info": {
      "name": "python"
    }
  },
  "cells": [
    {
      "cell_type": "code",
      "execution_count": 1,
      "metadata": {
        "colab": {
          "base_uri": "https://localhost:8080/"
        },
        "id": "-ATOPW9App1K",
        "outputId": "e6b91102-99d3-4d0a-c6ce-883d57203864"
      },
      "outputs": [
        {
          "output_type": "stream",
          "name": "stdout",
          "text": [
            "-1\n"
          ]
        }
      ],
      "source": [
        "print(2-3)"
      ]
    },
    {
      "cell_type": "code",
      "source": [
        "print((100*1.1)*7)"
      ],
      "metadata": {
        "colab": {
          "base_uri": "https://localhost:8080/"
        },
        "id": "MeaV_4q2px-2",
        "outputId": "27482b0a-0b4b-49ae-cb3a-0a6d880f8f25"
      },
      "execution_count": 4,
      "outputs": [
        {
          "output_type": "stream",
          "name": "stdout",
          "text": [
            "770.0000000000001\n"
          ]
        }
      ]
    },
    {
      "cell_type": "code",
      "source": [],
      "metadata": {
        "id": "K7Wt9XB3r-Sr"
      },
      "execution_count": null,
      "outputs": []
    },
    {
      "cell_type": "code",
      "source": [
        "print(100*1.1**7)"
      ],
      "metadata": {
        "colab": {
          "base_uri": "https://localhost:8080/"
        },
        "id": "6z6dC42UqshK",
        "outputId": "537e19c2-a3ad-4b10-9d94-08bcee8ef4be"
      },
      "execution_count": 5,
      "outputs": [
        {
          "output_type": "stream",
          "name": "stdout",
          "text": [
            "194.87171000000012\n"
          ]
        }
      ]
    },
    {
      "cell_type": "code",
      "source": [],
      "metadata": {
        "id": "af7TjqUPr8bt"
      },
      "execution_count": null,
      "outputs": []
    },
    {
      "cell_type": "code",
      "source": [
        "items = 10\n",
        "price = 2\n",
        "returned = 3\n",
        "sent = \"My remaining items are\"\n",
        "net_items = items-returned\n",
        "print(sent, net_items)"
      ],
      "metadata": {
        "colab": {
          "base_uri": "https://localhost:8080/"
        },
        "id": "oYcuPUkIr_ef",
        "outputId": "5171f6a6-609d-4a14-86d8-0b74ceef45c5"
      },
      "execution_count": 13,
      "outputs": [
        {
          "output_type": "stream",
          "name": "stdout",
          "text": [
            "My remaining items are 7\n"
          ]
        }
      ]
    },
    {
      "cell_type": "code",
      "source": [
        "type(sent)"
      ],
      "metadata": {
        "colab": {
          "base_uri": "https://localhost:8080/"
        },
        "id": "BMdbY4Ews49J",
        "outputId": "ea421c8e-2bae-4bd9-a43d-3ffd2511817f"
      },
      "execution_count": 14,
      "outputs": [
        {
          "output_type": "execute_result",
          "data": {
            "text/plain": [
              "str"
            ]
          },
          "metadata": {},
          "execution_count": 14
        }
      ]
    },
    {
      "cell_type": "code",
      "source": [
        "#first name\n",
        "first_sent = \"Hassan\"\n",
        "#second name\n",
        "second_sent = \"Haider\"\n",
        "age= 30\n",
        "\n",
        "print(f\"The mans first name is\",first_sent)"
      ],
      "metadata": {
        "colab": {
          "base_uri": "https://localhost:8080/"
        },
        "id": "j3VelzHWt3DV",
        "outputId": "c8a510e1-f536-4263-a680-a1d9cb362bf6"
      },
      "execution_count": 30,
      "outputs": [
        {
          "output_type": "stream",
          "name": "stdout",
          "text": [
            "The mans first name is Hassan\n"
          ]
        }
      ]
    },
    {
      "cell_type": "code",
      "source": [
        "weight = 102\n",
        "height =10\n",
        "BMI = weight/height\n",
        "BMI"
      ],
      "metadata": {
        "colab": {
          "base_uri": "https://localhost:8080/"
        },
        "id": "EHkO2DKNxfqA",
        "outputId": "1be638c5-5ebb-4d7a-94eb-a9eb4002a0cb"
      },
      "execution_count": 26,
      "outputs": [
        {
          "output_type": "execute_result",
          "data": {
            "text/plain": [
              "10.2"
            ]
          },
          "metadata": {},
          "execution_count": 26
        }
      ]
    },
    {
      "cell_type": "code",
      "source": [],
      "metadata": {
        "id": "Kz938TaSxe-A"
      },
      "execution_count": null,
      "outputs": []
    }
  ]
}